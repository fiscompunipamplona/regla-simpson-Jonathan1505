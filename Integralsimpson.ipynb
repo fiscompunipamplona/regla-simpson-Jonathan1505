{
 "cells": [
  {
   "cell_type": "code",
   "execution_count": 9,
   "metadata": {},
   "outputs": [
    {
     "name": "stdout",
     "output_type": "stream",
     "text": [
      "Ingrese el valor de n: 1000\n",
      "ingrese el valor dellimite inferior: 0\n",
      "ingrese el valor del limite superior: 2\n",
      " el valor de la integral es:  4.400000000004267\n"
     ]
    }
   ],
   "source": [
    "def funcion():\n",
    "    n=int(input(\"Ingrese el valor de n: \"))\n",
    "    li=int(input(\"ingrese el valor dellimite inferior: \"))\n",
    "    lf=int(input(\"ingrese el valor del limite superior: \"))\n",
    "    h=(lf-li)/n\n",
    "    x0=li\n",
    "    xn=lf\n",
    "    fg=(x0)**(4)-2*(x0)+1\n",
    "    fl=(xn)**(4)-2*(xn)+1\n",
    "    k=[]\n",
    "    for i in range(n):\n",
    "        k.append(x0+(i*h))      \n",
    "    acum1=0\n",
    "    b=(n-2)/2\n",
    "    l=int(b)\n",
    "    for j in range(l+1):\n",
    "        d=(k[(2*j)+1])**(4)-2*(k[(2*j)+1])+1\n",
    "        acum1=acum1+d\n",
    "    acum2=0 \n",
    "    for s in range(1,l+1):\n",
    "        q=(k[2*s])**(4)-2*(k[2*s])+1\n",
    "        acum2=acum2+q\n",
    "    Z=(h/3)*(fg+fl+(4*acum1)+(2*acum2))\n",
    "    print(\" el valor de la integral es: \",Z)\n",
    "    \n",
    "funcion()       "
   ]
  },
  {
   "cell_type": "code",
   "execution_count": 8,
   "metadata": {},
   "outputs": [
    {
     "name": "stdout",
     "output_type": "stream",
     "text": [
      "Ingrese el valor de n: 1000\n",
      "La integral por metodo del trapecio es:   4.374130474793567\n"
     ]
    }
   ],
   "source": [
    "n=float(input(\"Ingrese el valor de n: \"))\n",
    "j=int(n)\n",
    "I=0\n",
    "a=0\n",
    "b=2\n",
    "h=(b-a)/j\n",
    "for f in range(1,j-1):\n",
    "    p=((a+f*h)**4)-(2*(a+f*h))+1\n",
    "    I=I+p*h\n",
    "l=h*(0.5*(((a)**4) - 2*(a)+1)+0.5*(((b)**4) - 2*(b)+1))+I\n",
    "print(\"La integral por metodo del trapecio es:  \",l)\n"
   ]
  },
  {
   "cell_type": "markdown",
   "metadata": {},
   "source": [
    "Espacio para hallar el error  del metodo de simpson y el metodo del trapecio\n"
   ]
  },
  {
   "cell_type": "code",
   "execution_count": 10,
   "metadata": {},
   "outputs": [
    {
     "name": "stdout",
     "output_type": "stream",
     "text": [
      "El valor del error con el primer metodo en porcentaje es:  0.5879437546916625\n",
      "El valor del error con el segundo metodo en porcentaje es:  9.697293473271367e-11\n"
     ]
    }
   ],
   "source": [
    "# para hallar el error  tomamos los valores de n=1000, para los dos metodos \n",
    "# metodo del trapecio\n",
    "vr=4.4# el valor real de la integral \n",
    "vex=4.374130474793567 # valor experimental  del  metodo del trapecio \n",
    "error1=abs(((vr-vex)/vr)*100)\n",
    "print(\"El valor del error con el primer metodo en porcentaje es: \",error1)\n",
    "#  metodo de Simpson \n",
    "vex2=4.400000000004267\n",
    "error2=abs(((vr-vex2)/vr)*100)\n",
    "print(\"El valor del error con el segundo metodo en porcentaje es: \",error2)"
   ]
  },
  {
   "cell_type": "code",
   "execution_count": null,
   "metadata": {},
   "outputs": [],
   "source": []
  },
  {
   "cell_type": "markdown",
   "metadata": {},
   "source": [
    "NOTA: en el metodo de Simpson, se tomo  la siguiente sumatoria de la integral \n",
    "I=(h/3)*(f(a)+f(b)+ 4*(sumatoria(k=0 hasta((n-2)/2))f(x2k+1))+2*(sumatoria(k=1 hasta((n-2)/2))f(x2k)))\n",
    "la expresion anterior fue la que se trabajo para el metodo de Simpson"
   ]
  },
  {
   "cell_type": "code",
   "execution_count": null,
   "metadata": {},
   "outputs": [],
   "source": []
  }
 ],
 "metadata": {
  "kernelspec": {
   "display_name": "Python 3",
   "language": "python",
   "name": "python3"
  },
  "language_info": {
   "codemirror_mode": {
    "name": "ipython",
    "version": 3
   },
   "file_extension": ".py",
   "mimetype": "text/x-python",
   "name": "python",
   "nbconvert_exporter": "python",
   "pygments_lexer": "ipython3",
   "version": "3.7.3"
  }
 },
 "nbformat": 4,
 "nbformat_minor": 2
}
